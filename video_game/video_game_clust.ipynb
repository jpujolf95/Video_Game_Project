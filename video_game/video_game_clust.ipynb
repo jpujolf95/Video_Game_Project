{
 "cells": [
  {
   "cell_type": "markdown",
   "metadata": {},
   "source": [
    "# Libraries"
   ]
  },
  {
   "cell_type": "code",
   "execution_count": 2,
   "metadata": {},
   "outputs": [],
   "source": [
    "import pandas as pd\n",
    "import numpy as np\n",
    "\n",
    "#graph\n",
    "from matplotlib import pyplot as plt\n",
    "import seaborn as sns\n",
    "\n",
    "#modeling\n",
    "from sklearn.model_selection import train_test_split\n",
    "from sklearn.ensemble import RandomForestRegressor\n",
    "from sklearn.linear_model import LinearRegression\n",
    "from xml.sax.handler import feature_namespaces #identify feature importance for the dataset\n",
    "\n",
    "#accuracy and precision\n",
    "from sklearn.metrics import mean_absolute_error, mean_squared_error,r2_score\n",
    "\n",
    "\n"
   ]
  },
  {
   "cell_type": "markdown",
   "metadata": {},
   "source": [
    "# Cleaning Data 1"
   ]
  },
  {
   "cell_type": "markdown",
   "metadata": {},
   "source": [
    "Data is obtained from :\n",
    "\n",
    "https://www.kaggle.com/datasets/rush4ratio/video-game-sales-with-ratings?select=Video_Games_Sales_as_at_22_Dec_2016.csv"
   ]
  },
  {
   "cell_type": "markdown",
   "metadata": {},
   "source": [
    "df column description : \n",
    "\n",
    "- id: Game ID on steam platform\n",
    "- name: Game name as appears on Steam platform\n",
    "- year: Release year\n",
    "- metacritic_rating: Metacritic rating (the larger the better)\n",
    "- reviewer_rating: Game rating given by users on the 0-10 scale (the larger the better)\n",
    "- positivity_ratio: Number of positive reviews divided by the number of negative reviews\n",
    "- to_beat_main: Time required to beat the main plot of the game\n",
    "- to_beat_extra: Time required to beat the main and optional objectives of the game\n",
    "- to_beat_completionist: Time required to complete every single objective of the game including gathering all collectibles\n",
    "- extra_content_length: The difference between completionist time and extra time\n"
   ]
  },
  {
   "cell_type": "code",
   "execution_count": 3,
   "metadata": {},
   "outputs": [
    {
     "data": {
      "text/html": [
       "<div>\n",
       "<style scoped>\n",
       "    .dataframe tbody tr th:only-of-type {\n",
       "        vertical-align: middle;\n",
       "    }\n",
       "\n",
       "    .dataframe tbody tr th {\n",
       "        vertical-align: top;\n",
       "    }\n",
       "\n",
       "    .dataframe thead th {\n",
       "        text-align: right;\n",
       "    }\n",
       "</style>\n",
       "<table border=\"1\" class=\"dataframe\">\n",
       "  <thead>\n",
       "    <tr style=\"text-align: right;\">\n",
       "      <th></th>\n",
       "      <th>id</th>\n",
       "      <th>name</th>\n",
       "      <th>year</th>\n",
       "      <th>metacritic_rating</th>\n",
       "      <th>reviewer_rating</th>\n",
       "      <th>positivity_ratio</th>\n",
       "      <th>to_beat_main</th>\n",
       "      <th>to_beat_extra</th>\n",
       "      <th>to_beat_completionist</th>\n",
       "      <th>extra_content_length</th>\n",
       "      <th>tags</th>\n",
       "    </tr>\n",
       "  </thead>\n",
       "  <tbody>\n",
       "    <tr>\n",
       "      <th>0</th>\n",
       "      <td>96000</td>\n",
       "      <td>The Tiny Bang Story</td>\n",
       "      <td>2011.0</td>\n",
       "      <td>63.0</td>\n",
       "      <td>8.0</td>\n",
       "      <td>7.073879</td>\n",
       "      <td>3.60</td>\n",
       "      <td>3.60</td>\n",
       "      <td>3.77</td>\n",
       "      <td>0.17</td>\n",
       "      <td>Story Rich|Steampunk|Adventure|Atmospheric|Puz...</td>\n",
       "    </tr>\n",
       "    <tr>\n",
       "      <th>1</th>\n",
       "      <td>262410</td>\n",
       "      <td>World of Guns: Gun Disassembly</td>\n",
       "      <td>2014.0</td>\n",
       "      <td>NaN</td>\n",
       "      <td>8.0</td>\n",
       "      <td>5.208940</td>\n",
       "      <td>2.00</td>\n",
       "      <td>NaN</td>\n",
       "      <td>28.07</td>\n",
       "      <td>26.07</td>\n",
       "      <td>Horror|First-Person|Historical|Multiplayer|Str...</td>\n",
       "    </tr>\n",
       "    <tr>\n",
       "      <th>2</th>\n",
       "      <td>1250410</td>\n",
       "      <td>Microsoft Flight Simulator 40th Anniversary Ed...</td>\n",
       "      <td>2020.0</td>\n",
       "      <td>91.0</td>\n",
       "      <td>6.0</td>\n",
       "      <td>3.581082</td>\n",
       "      <td>NaN</td>\n",
       "      <td>NaN</td>\n",
       "      <td>NaN</td>\n",
       "      <td>NaN</td>\n",
       "      <td>Multiplayer|Adventure|VR|Action Roguelike|Phys...</td>\n",
       "    </tr>\n",
       "    <tr>\n",
       "      <th>3</th>\n",
       "      <td>365450</td>\n",
       "      <td>Hacknet</td>\n",
       "      <td>2015.0</td>\n",
       "      <td>82.0</td>\n",
       "      <td>8.0</td>\n",
       "      <td>14.548520</td>\n",
       "      <td>7.06</td>\n",
       "      <td>8.73</td>\n",
       "      <td>10.75</td>\n",
       "      <td>3.69</td>\n",
       "      <td>Horror|Story Rich|Hacking|Crime|Multiplayer|Dy...</td>\n",
       "    </tr>\n",
       "    <tr>\n",
       "      <th>4</th>\n",
       "      <td>92800</td>\n",
       "      <td>SpaceChem</td>\n",
       "      <td>2011.0</td>\n",
       "      <td>84.0</td>\n",
       "      <td>8.0</td>\n",
       "      <td>11.440415</td>\n",
       "      <td>43.32</td>\n",
       "      <td>57.79</td>\n",
       "      <td>67.55</td>\n",
       "      <td>24.23</td>\n",
       "      <td>Automation|Strategy|Building|Puzzle|Science|Pr...</td>\n",
       "    </tr>\n",
       "  </tbody>\n",
       "</table>\n",
       "</div>"
      ],
      "text/plain": [
       "        id                                               name    year  \\\n",
       "0    96000                                The Tiny Bang Story  2011.0   \n",
       "1   262410                     World of Guns: Gun Disassembly  2014.0   \n",
       "2  1250410  Microsoft Flight Simulator 40th Anniversary Ed...  2020.0   \n",
       "3   365450                                            Hacknet  2015.0   \n",
       "4    92800                                          SpaceChem  2011.0   \n",
       "\n",
       "   metacritic_rating  reviewer_rating  positivity_ratio  to_beat_main  \\\n",
       "0               63.0              8.0          7.073879          3.60   \n",
       "1                NaN              8.0          5.208940          2.00   \n",
       "2               91.0              6.0          3.581082           NaN   \n",
       "3               82.0              8.0         14.548520          7.06   \n",
       "4               84.0              8.0         11.440415         43.32   \n",
       "\n",
       "   to_beat_extra  to_beat_completionist  extra_content_length  \\\n",
       "0           3.60                   3.77                  0.17   \n",
       "1            NaN                  28.07                 26.07   \n",
       "2            NaN                    NaN                   NaN   \n",
       "3           8.73                  10.75                  3.69   \n",
       "4          57.79                  67.55                 24.23   \n",
       "\n",
       "                                                tags  \n",
       "0  Story Rich|Steampunk|Adventure|Atmospheric|Puz...  \n",
       "1  Horror|First-Person|Historical|Multiplayer|Str...  \n",
       "2  Multiplayer|Adventure|VR|Action Roguelike|Phys...  \n",
       "3  Horror|Story Rich|Hacking|Crime|Multiplayer|Dy...  \n",
       "4  Automation|Strategy|Building|Puzzle|Science|Pr...  "
      ]
     },
     "execution_count": 3,
     "metadata": {},
     "output_type": "execute_result"
    }
   ],
   "source": [
    "df = pd.read_csv('dataset/dataset.csv')\n",
    "df.head()"
   ]
  },
  {
   "cell_type": "markdown",
   "metadata": {},
   "source": [
    "lets look at the null vales"
   ]
  },
  {
   "cell_type": "code",
   "execution_count": 4,
   "metadata": {},
   "outputs": [
    {
     "data": {
      "text/plain": [
       "id                        0.000000\n",
       "name                      0.000000\n",
       "year                      0.157374\n",
       "metacritic_rating        93.837244\n",
       "reviewer_rating          29.765670\n",
       "positivity_ratio          3.167934\n",
       "to_beat_main             71.985899\n",
       "to_beat_extra            78.869427\n",
       "to_beat_completionist    74.763546\n",
       "extra_content_length     66.665093\n",
       "tags                      0.000000\n",
       "dtype: float64"
      ]
     },
     "execution_count": 4,
     "metadata": {},
     "output_type": "execute_result"
    }
   ],
   "source": [
    "df.isna().sum() / len(df) *100"
   ]
  },
  {
   "cell_type": "markdown",
   "metadata": {},
   "source": [
    "we have to drop the metacritic_rating column as 93% of values are null. \n",
    "\n",
    "I will consider keeping the other columns for the moment."
   ]
  },
  {
   "cell_type": "code",
   "execution_count": 5,
   "metadata": {},
   "outputs": [],
   "source": [
    "df = df.drop(['metacritic_rating', 'year', 'id'], axis=1)"
   ]
  },
  {
   "cell_type": "markdown",
   "metadata": {},
   "source": [
    "# Cleaning Data 2"
   ]
  },
  {
   "cell_type": "markdown",
   "metadata": {},
   "source": [
    "Data is obtained from :\n",
    "\n",
    "https://www.kaggle.com/code/gruffgemini/basic-video-game-recommender-system/input"
   ]
  },
  {
   "cell_type": "markdown",
   "metadata": {},
   "source": [
    "score column definitions:\n",
    "\n",
    "\n",
    "- Name: Name of the game\n",
    "- Platform: Console on which the game is running\n",
    "- Year_of_Release: Year of the game released\n",
    "- Genre: Game's category\n",
    "- Publisher: Publisher\n",
    "- NA_Sales: Game sales in North America (in millions of units)\n",
    "- EU_Sales: Game sales in the European Union (in millions of units)\n",
    "- JP_Sales: Game sales in Japan (in millions of units)\n",
    "- Other_Sales: Game sales in the rest of the world, i.e. Africa, Asia excluding Japan, Australia, Europe excluding the E.U. and South America (in millions of units)\n",
    "- Global_Sales: Total sales in the world (in millions of units)\n",
    "- Critic_Score: Aggregate score compiled by Metacritic staff\n",
    "- Critic_Count: The number of critics used in coming up with the Critic_score\n",
    "- User_Score: Score by Metacritic's subscribers\n",
    "- User_Count: Number of users who gave the user_score\n",
    "- Developer: Party responsible for creating the game\n",
    "- Rating: The ESRB ratings (E.g. Everyone, Teen, Adults Only..etc)\n"
   ]
  },
  {
   "cell_type": "code",
   "execution_count": 6,
   "metadata": {},
   "outputs": [],
   "source": [
    "score = pd.read_csv('dataset/Video_Games_Sales_as_at_22_Dec_2016.csv')"
   ]
  },
  {
   "cell_type": "code",
   "execution_count": 7,
   "metadata": {},
   "outputs": [
    {
     "data": {
      "text/plain": [
       "Name                0.011962\n",
       "Platform            0.000000\n",
       "Year_of_Release     1.608948\n",
       "Genre               0.011962\n",
       "Publisher           0.322986\n",
       "NA_Sales            0.000000\n",
       "EU_Sales            0.000000\n",
       "JP_Sales            0.000000\n",
       "Other_Sales         0.000000\n",
       "Global_Sales        0.000000\n",
       "Critic_Score       51.330821\n",
       "Critic_Count       51.330821\n",
       "User_Score         40.098092\n",
       "User_Count         54.602548\n",
       "Developer          39.613613\n",
       "Rating             40.486871\n",
       "dtype: float64"
      ]
     },
     "execution_count": 7,
     "metadata": {},
     "output_type": "execute_result"
    }
   ],
   "source": [
    "score.isna().sum() / len(score) *100"
   ]
  },
  {
   "cell_type": "markdown",
   "metadata": {},
   "source": [
    "we can take down all of unrelevant data, and keep the columns which are only related to game content and components and not sales."
   ]
  },
  {
   "cell_type": "code",
   "execution_count": 8,
   "metadata": {},
   "outputs": [],
   "source": [
    "score = score.drop(['JP_Sales','NA_Sales','EU_Sales','Other_Sales','Global_Sales','Critic_Count','User_Count','Rating','Platform','Developer'], axis=1)\n",
    "\n",
    "#we need the columns in the 2 datasets to have the same format\n",
    "score.columns  = score.columns.str.lower()"
   ]
  },
  {
   "cell_type": "markdown",
   "metadata": {},
   "source": [
    "# Question: we want to predict what is the score users will rate the game based on the genre / category of the game, scores from popular gaming sites."
   ]
  },
  {
   "cell_type": "markdown",
   "metadata": {},
   "source": [
    "# Merge - Let's Begin the Cleaning"
   ]
  },
  {
   "cell_type": "markdown",
   "metadata": {},
   "source": [
    "Merge the 2 data sets"
   ]
  },
  {
   "cell_type": "code",
   "execution_count": 9,
   "metadata": {},
   "outputs": [
    {
     "data": {
      "text/html": [
       "<div>\n",
       "<style scoped>\n",
       "    .dataframe tbody tr th:only-of-type {\n",
       "        vertical-align: middle;\n",
       "    }\n",
       "\n",
       "    .dataframe tbody tr th {\n",
       "        vertical-align: top;\n",
       "    }\n",
       "\n",
       "    .dataframe thead th {\n",
       "        text-align: right;\n",
       "    }\n",
       "</style>\n",
       "<table border=\"1\" class=\"dataframe\">\n",
       "  <thead>\n",
       "    <tr style=\"text-align: right;\">\n",
       "      <th></th>\n",
       "      <th>name</th>\n",
       "      <th>reviewer_rating</th>\n",
       "      <th>positivity_ratio</th>\n",
       "      <th>to_beat_main</th>\n",
       "      <th>to_beat_extra</th>\n",
       "      <th>to_beat_completionist</th>\n",
       "      <th>extra_content_length</th>\n",
       "      <th>tags</th>\n",
       "      <th>year_of_release</th>\n",
       "      <th>genre</th>\n",
       "      <th>publisher</th>\n",
       "      <th>critic_score</th>\n",
       "      <th>user_score</th>\n",
       "    </tr>\n",
       "  </thead>\n",
       "  <tbody>\n",
       "    <tr>\n",
       "      <th>0</th>\n",
       "      <td>Europa Universalis III Complete</td>\n",
       "      <td>8.0</td>\n",
       "      <td>5.188742</td>\n",
       "      <td>NaN</td>\n",
       "      <td>NaN</td>\n",
       "      <td>NaN</td>\n",
       "      <td>NaN</td>\n",
       "      <td>4X|Historical|Multiplayer|Strategy|Grand Strat...</td>\n",
       "      <td>2008.0</td>\n",
       "      <td>Strategy</td>\n",
       "      <td>Paradox Interactive</td>\n",
       "      <td>NaN</td>\n",
       "      <td>8.7</td>\n",
       "    </tr>\n",
       "    <tr>\n",
       "      <th>1</th>\n",
       "      <td>The Space Bar</td>\n",
       "      <td>NaN</td>\n",
       "      <td>1.000000</td>\n",
       "      <td>NaN</td>\n",
       "      <td>NaN</td>\n",
       "      <td>NaN</td>\n",
       "      <td>NaN</td>\n",
       "      <td>Noir|Aliens|First-Person|Funny|Crime|Cyberpunk...</td>\n",
       "      <td>1996.0</td>\n",
       "      <td>Adventure</td>\n",
       "      <td>Sega</td>\n",
       "      <td>NaN</td>\n",
       "      <td>NaN</td>\n",
       "    </tr>\n",
       "    <tr>\n",
       "      <th>2</th>\n",
       "      <td>Malice</td>\n",
       "      <td>4.0</td>\n",
       "      <td>0.276504</td>\n",
       "      <td>5.50</td>\n",
       "      <td>NaN</td>\n",
       "      <td>NaN</td>\n",
       "      <td>-5.5</td>\n",
       "      <td>Horror|First-Person|Escape Room|Atmospheric|Ex...</td>\n",
       "      <td>2004.0</td>\n",
       "      <td>Platform</td>\n",
       "      <td>Evolved Games</td>\n",
       "      <td>51.0</td>\n",
       "      <td>tbd</td>\n",
       "    </tr>\n",
       "    <tr>\n",
       "      <th>3</th>\n",
       "      <td>Malice</td>\n",
       "      <td>4.0</td>\n",
       "      <td>0.276504</td>\n",
       "      <td>5.50</td>\n",
       "      <td>NaN</td>\n",
       "      <td>NaN</td>\n",
       "      <td>-5.5</td>\n",
       "      <td>Horror|First-Person|Escape Room|Atmospheric|Ex...</td>\n",
       "      <td>2004.0</td>\n",
       "      <td>Platform</td>\n",
       "      <td>Evolved Games</td>\n",
       "      <td>48.0</td>\n",
       "      <td>tbd</td>\n",
       "    </tr>\n",
       "    <tr>\n",
       "      <th>4</th>\n",
       "      <td>Puzzler World</td>\n",
       "      <td>8.0</td>\n",
       "      <td>7.883721</td>\n",
       "      <td>7.43</td>\n",
       "      <td>17.44</td>\n",
       "      <td>22.03</td>\n",
       "      <td>14.6</td>\n",
       "      <td>Touch-Friendly|Puzzle|Casual|Word Game|Logic|S...</td>\n",
       "      <td>2009.0</td>\n",
       "      <td>Puzzle</td>\n",
       "      <td>Ubisoft</td>\n",
       "      <td>NaN</td>\n",
       "      <td>tbd</td>\n",
       "    </tr>\n",
       "  </tbody>\n",
       "</table>\n",
       "</div>"
      ],
      "text/plain": [
       "                              name  reviewer_rating  positivity_ratio  \\\n",
       "0  Europa Universalis III Complete              8.0          5.188742   \n",
       "1                    The Space Bar              NaN          1.000000   \n",
       "2                           Malice              4.0          0.276504   \n",
       "3                           Malice              4.0          0.276504   \n",
       "4                    Puzzler World              8.0          7.883721   \n",
       "\n",
       "   to_beat_main  to_beat_extra  to_beat_completionist  extra_content_length  \\\n",
       "0           NaN            NaN                    NaN                   NaN   \n",
       "1           NaN            NaN                    NaN                   NaN   \n",
       "2          5.50            NaN                    NaN                  -5.5   \n",
       "3          5.50            NaN                    NaN                  -5.5   \n",
       "4          7.43          17.44                  22.03                  14.6   \n",
       "\n",
       "                                                tags  year_of_release  \\\n",
       "0  4X|Historical|Multiplayer|Strategy|Grand Strat...           2008.0   \n",
       "1  Noir|Aliens|First-Person|Funny|Crime|Cyberpunk...           1996.0   \n",
       "2  Horror|First-Person|Escape Room|Atmospheric|Ex...           2004.0   \n",
       "3  Horror|First-Person|Escape Room|Atmospheric|Ex...           2004.0   \n",
       "4  Touch-Friendly|Puzzle|Casual|Word Game|Logic|S...           2009.0   \n",
       "\n",
       "       genre            publisher  critic_score user_score  \n",
       "0   Strategy  Paradox Interactive           NaN        8.7  \n",
       "1  Adventure                 Sega           NaN        NaN  \n",
       "2   Platform        Evolved Games          51.0        tbd  \n",
       "3   Platform        Evolved Games          48.0        tbd  \n",
       "4     Puzzle              Ubisoft           NaN        tbd  "
      ]
     },
     "execution_count": 9,
     "metadata": {},
     "output_type": "execute_result"
    }
   ],
   "source": [
    "data = pd.merge(df, score, on='name')\n",
    "data.head()"
   ]
  },
  {
   "cell_type": "markdown",
   "metadata": {},
   "source": [
    "We have to extract the information from the column 'tags' to get all of the categories / keywords assigned to the game. "
   ]
  },
  {
   "cell_type": "code",
   "execution_count": 10,
   "metadata": {},
   "outputs": [],
   "source": [
    "# we remove the seperators\n",
    "data['tags'] = data['tags'].str.split('|')\n",
    "data = data.explode('tags') #explode is used to replicate the rows that have an array / list on the column with individual values"
   ]
  },
  {
   "cell_type": "code",
   "execution_count": 11,
   "metadata": {},
   "outputs": [
    {
     "data": {
      "text/html": [
       "<div>\n",
       "<style scoped>\n",
       "    .dataframe tbody tr th:only-of-type {\n",
       "        vertical-align: middle;\n",
       "    }\n",
       "\n",
       "    .dataframe tbody tr th {\n",
       "        vertical-align: top;\n",
       "    }\n",
       "\n",
       "    .dataframe thead th {\n",
       "        text-align: right;\n",
       "    }\n",
       "</style>\n",
       "<table border=\"1\" class=\"dataframe\">\n",
       "  <thead>\n",
       "    <tr style=\"text-align: right;\">\n",
       "      <th></th>\n",
       "      <th>name</th>\n",
       "      <th>reviewer_rating</th>\n",
       "      <th>positivity_ratio</th>\n",
       "      <th>to_beat_main</th>\n",
       "      <th>to_beat_extra</th>\n",
       "      <th>to_beat_completionist</th>\n",
       "      <th>extra_content_length</th>\n",
       "      <th>tags</th>\n",
       "      <th>year_of_release</th>\n",
       "      <th>genre</th>\n",
       "      <th>publisher</th>\n",
       "      <th>critic_score</th>\n",
       "      <th>user_score</th>\n",
       "    </tr>\n",
       "  </thead>\n",
       "  <tbody>\n",
       "    <tr>\n",
       "      <th>0</th>\n",
       "      <td>Europa Universalis III Complete</td>\n",
       "      <td>8.0</td>\n",
       "      <td>5.188742</td>\n",
       "      <td>NaN</td>\n",
       "      <td>NaN</td>\n",
       "      <td>NaN</td>\n",
       "      <td>NaN</td>\n",
       "      <td>4X</td>\n",
       "      <td>2008.0</td>\n",
       "      <td>Strategy</td>\n",
       "      <td>Paradox Interactive</td>\n",
       "      <td>NaN</td>\n",
       "      <td>8.7</td>\n",
       "    </tr>\n",
       "    <tr>\n",
       "      <th>0</th>\n",
       "      <td>Europa Universalis III Complete</td>\n",
       "      <td>8.0</td>\n",
       "      <td>5.188742</td>\n",
       "      <td>NaN</td>\n",
       "      <td>NaN</td>\n",
       "      <td>NaN</td>\n",
       "      <td>NaN</td>\n",
       "      <td>Historical</td>\n",
       "      <td>2008.0</td>\n",
       "      <td>Strategy</td>\n",
       "      <td>Paradox Interactive</td>\n",
       "      <td>NaN</td>\n",
       "      <td>8.7</td>\n",
       "    </tr>\n",
       "    <tr>\n",
       "      <th>0</th>\n",
       "      <td>Europa Universalis III Complete</td>\n",
       "      <td>8.0</td>\n",
       "      <td>5.188742</td>\n",
       "      <td>NaN</td>\n",
       "      <td>NaN</td>\n",
       "      <td>NaN</td>\n",
       "      <td>NaN</td>\n",
       "      <td>Multiplayer</td>\n",
       "      <td>2008.0</td>\n",
       "      <td>Strategy</td>\n",
       "      <td>Paradox Interactive</td>\n",
       "      <td>NaN</td>\n",
       "      <td>8.7</td>\n",
       "    </tr>\n",
       "    <tr>\n",
       "      <th>0</th>\n",
       "      <td>Europa Universalis III Complete</td>\n",
       "      <td>8.0</td>\n",
       "      <td>5.188742</td>\n",
       "      <td>NaN</td>\n",
       "      <td>NaN</td>\n",
       "      <td>NaN</td>\n",
       "      <td>NaN</td>\n",
       "      <td>Strategy</td>\n",
       "      <td>2008.0</td>\n",
       "      <td>Strategy</td>\n",
       "      <td>Paradox Interactive</td>\n",
       "      <td>NaN</td>\n",
       "      <td>8.7</td>\n",
       "    </tr>\n",
       "    <tr>\n",
       "      <th>0</th>\n",
       "      <td>Europa Universalis III Complete</td>\n",
       "      <td>8.0</td>\n",
       "      <td>5.188742</td>\n",
       "      <td>NaN</td>\n",
       "      <td>NaN</td>\n",
       "      <td>NaN</td>\n",
       "      <td>NaN</td>\n",
       "      <td>Grand Strategy</td>\n",
       "      <td>2008.0</td>\n",
       "      <td>Strategy</td>\n",
       "      <td>Paradox Interactive</td>\n",
       "      <td>NaN</td>\n",
       "      <td>8.7</td>\n",
       "    </tr>\n",
       "  </tbody>\n",
       "</table>\n",
       "</div>"
      ],
      "text/plain": [
       "                              name  reviewer_rating  positivity_ratio  \\\n",
       "0  Europa Universalis III Complete              8.0          5.188742   \n",
       "0  Europa Universalis III Complete              8.0          5.188742   \n",
       "0  Europa Universalis III Complete              8.0          5.188742   \n",
       "0  Europa Universalis III Complete              8.0          5.188742   \n",
       "0  Europa Universalis III Complete              8.0          5.188742   \n",
       "\n",
       "   to_beat_main  to_beat_extra  to_beat_completionist  extra_content_length  \\\n",
       "0           NaN            NaN                    NaN                   NaN   \n",
       "0           NaN            NaN                    NaN                   NaN   \n",
       "0           NaN            NaN                    NaN                   NaN   \n",
       "0           NaN            NaN                    NaN                   NaN   \n",
       "0           NaN            NaN                    NaN                   NaN   \n",
       "\n",
       "             tags  year_of_release     genre            publisher  \\\n",
       "0              4X           2008.0  Strategy  Paradox Interactive   \n",
       "0      Historical           2008.0  Strategy  Paradox Interactive   \n",
       "0     Multiplayer           2008.0  Strategy  Paradox Interactive   \n",
       "0        Strategy           2008.0  Strategy  Paradox Interactive   \n",
       "0  Grand Strategy           2008.0  Strategy  Paradox Interactive   \n",
       "\n",
       "   critic_score user_score  \n",
       "0           NaN        8.7  \n",
       "0           NaN        8.7  \n",
       "0           NaN        8.7  \n",
       "0           NaN        8.7  \n",
       "0           NaN        8.7  "
      ]
     },
     "execution_count": 11,
     "metadata": {},
     "output_type": "execute_result"
    }
   ],
   "source": [
    "data.head()"
   ]
  },
  {
   "cell_type": "markdown",
   "metadata": {},
   "source": [
    "Check data format and transform accordingly"
   ]
  },
  {
   "cell_type": "code",
   "execution_count": 12,
   "metadata": {},
   "outputs": [
    {
     "name": "stdout",
     "output_type": "stream",
     "text": [
      "<class 'pandas.core.frame.DataFrame'>\n",
      "Int64Index: 18360 entries, 0 to 1125\n",
      "Data columns (total 13 columns):\n",
      " #   Column                 Non-Null Count  Dtype  \n",
      "---  ------                 --------------  -----  \n",
      " 0   name                   18360 non-null  object \n",
      " 1   reviewer_rating        18030 non-null  float64\n",
      " 2   positivity_ratio       18285 non-null  float64\n",
      " 3   to_beat_main           17550 non-null  float64\n",
      " 4   to_beat_extra          16555 non-null  float64\n",
      " 5   to_beat_completionist  16476 non-null  float64\n",
      " 6   extra_content_length   17742 non-null  float64\n",
      " 7   tags                   18360 non-null  object \n",
      " 8   year_of_release        18088 non-null  float64\n",
      " 9   genre                  18360 non-null  object \n",
      " 10  publisher              18306 non-null  object \n",
      " 11  critic_score           14323 non-null  float64\n",
      " 12  user_score             15741 non-null  object \n",
      "dtypes: float64(8), object(5)\n",
      "memory usage: 2.0+ MB\n"
     ]
    }
   ],
   "source": [
    "data.info()"
   ]
  },
  {
   "cell_type": "markdown",
   "metadata": {},
   "source": [
    "'user_score' should be considered a numerical value"
   ]
  },
  {
   "cell_type": "code",
   "execution_count": 13,
   "metadata": {},
   "outputs": [],
   "source": [
    "# i identify a non-numerical value in the column 'user_score' and i remove it from the datset\n",
    "data['user_score'] = data['user_score'].replace('tbd', None)"
   ]
  },
  {
   "cell_type": "code",
   "execution_count": 14,
   "metadata": {},
   "outputs": [],
   "source": [
    "#user score is a number that ranges from 0 to 10\n",
    "data['user_score'] = data['user_score'].astype(float)\n",
    "\n",
    "#should date be considered a categorical value?\n",
    "#data['year'] = data['year'].astype(object)\n",
    "#data['year_of_release'] = data['year_of_release'].astype(object)"
   ]
  },
  {
   "cell_type": "markdown",
   "metadata": {},
   "source": [
    "### Drop Null values"
   ]
  },
  {
   "cell_type": "code",
   "execution_count": 15,
   "metadata": {},
   "outputs": [
    {
     "data": {
      "text/plain": [
       "name                        0\n",
       "reviewer_rating           330\n",
       "positivity_ratio           75\n",
       "to_beat_main              810\n",
       "to_beat_extra            1805\n",
       "to_beat_completionist    1884\n",
       "extra_content_length      618\n",
       "tags                        0\n",
       "year_of_release           272\n",
       "genre                       0\n",
       "publisher                  54\n",
       "critic_score             4037\n",
       "user_score               3671\n",
       "dtype: int64"
      ]
     },
     "execution_count": 15,
     "metadata": {},
     "output_type": "execute_result"
    }
   ],
   "source": [
    "data.isna().sum()"
   ]
  },
  {
   "cell_type": "code",
   "execution_count": 16,
   "metadata": {},
   "outputs": [],
   "source": [
    "data = data.dropna()"
   ]
  },
  {
   "cell_type": "markdown",
   "metadata": {},
   "source": [
    "## classify year of release "
   ]
  },
  {
   "cell_type": "code",
   "execution_count": 17,
   "metadata": {},
   "outputs": [
    {
     "data": {
      "text/plain": [
       "array([2012., 2013., 2011., 2016., 2014., 2009., 2008., 2004., 1998.,\n",
       "       1999., 2015., 2003., 2010., 2001., 2002., 2006., 1997., 2005.,\n",
       "       1996., 2007., 2000., 1985.])"
      ]
     },
     "execution_count": 17,
     "metadata": {},
     "output_type": "execute_result"
    }
   ],
   "source": [
    "data.year_of_release.unique()"
   ]
  },
  {
   "cell_type": "code",
   "execution_count": 18,
   "metadata": {},
   "outputs": [],
   "source": [
    "data[\"year_of_release\"] = data[\"year_of_release\"].astype(int)\n",
    "\n",
    "def fix_year (x):\n",
    "\n",
    "    if x <2000: return \"90s\"\n",
    "    elif x>1999 and x<2010: return \"00s\"\n",
    "    else: return \"10s\"\n",
    "\n",
    "data[\"epoque\"] = data[\"year_of_release\"].apply(lambda x: fix_year(x))\n",
    "\n"
   ]
  },
  {
   "cell_type": "code",
   "execution_count": 19,
   "metadata": {},
   "outputs": [],
   "source": [
    "data = data.drop('year_of_release', axis=1)"
   ]
  },
  {
   "cell_type": "code",
   "execution_count": 20,
   "metadata": {},
   "outputs": [],
   "source": [
    "#data.to_csv('data_merged_final.csv')"
   ]
  },
  {
   "cell_type": "markdown",
   "metadata": {},
   "source": [
    "# Cateforicals & Numericals - Preparing for training"
   ]
  },
  {
   "cell_type": "markdown",
   "metadata": {},
   "source": [
    "### Numericals"
   ]
  },
  {
   "cell_type": "code",
   "execution_count": 21,
   "metadata": {},
   "outputs": [],
   "source": [
    "num = data.select_dtypes([np.number])"
   ]
  },
  {
   "cell_type": "markdown",
   "metadata": {},
   "source": [
    "Check correlation"
   ]
  },
  {
   "cell_type": "code",
   "execution_count": 22,
   "metadata": {},
   "outputs": [
    {
     "data": {
      "image/png": "[encoded data removed]",
      "text/plain": [
       "<Figure size 1000x800 with 2 Axes>"
      ]
     },
     "metadata": {},
     "output_type": "display_data"
    }
   ],
   "source": [
    "#select numerical data and see relationship between features\n",
    "correlations_matrix = num.corr().round(2)\n",
    "\n",
    "#hide half the map\n",
    "mask = np.zeros_like(correlations_matrix)\n",
    "mask[np.triu_indices_from(mask)] = True \n",
    "\n",
    "#choose size of graph\n",
    "fig, ax = plt.subplots(figsize=(10, 8))\n",
    "ax = sns.heatmap(correlations_matrix, mask=mask, annot=True)\n",
    "\n",
    "plt.show()"
   ]
  },
  {
   "cell_type": "markdown",
   "metadata": {},
   "source": [
    "we can perceive there is no strong correlation betweent the columns, we do not have to drop any of the features"
   ]
  },
  {
   "cell_type": "markdown",
   "metadata": {},
   "source": [
    "transformer = MinMaxScaler().fit(num)\n",
    "data_norm = transformer.transform(num)\n",
    "data_norm = pd.DataFrame(data_norm, columns=num.columns)"
   ]
  },
  {
   "cell_type": "markdown",
   "metadata": {},
   "source": [
    "### Categoricals"
   ]
  },
  {
   "cell_type": "code",
   "execution_count": 23,
   "metadata": {},
   "outputs": [],
   "source": [
    "cat = data.select_dtypes(np.object_)\n"
   ]
  },
  {
   "cell_type": "code",
   "execution_count": 24,
   "metadata": {},
   "outputs": [],
   "source": [
    "cat_encoded = pd.get_dummies(cat, columns=cat.columns)"
   ]
  },
  {
   "cell_type": "code",
   "execution_count": 25,
   "metadata": {},
   "outputs": [
    {
     "data": {
      "text/html": [
       "<div>\n",
       "<style scoped>\n",
       "    .dataframe tbody tr th:only-of-type {\n",
       "        vertical-align: middle;\n",
       "    }\n",
       "\n",
       "    .dataframe tbody tr th {\n",
       "        vertical-align: top;\n",
       "    }\n",
       "\n",
       "    .dataframe thead th {\n",
       "        text-align: right;\n",
       "    }\n",
       "</style>\n",
       "<table border=\"1\" class=\"dataframe\">\n",
       "  <thead>\n",
       "    <tr style=\"text-align: right;\">\n",
       "      <th></th>\n",
       "      <th>name_15 Days</th>\n",
       "      <th>name_7 Days to Die</th>\n",
       "      <th>name_7 Wonders of the Ancient World</th>\n",
       "      <th>name_A Boy and His Blob</th>\n",
       "      <th>name_A Vampyre Story</th>\n",
       "      <th>name_Advent Rising</th>\n",
       "      <th>name_Aegis of Earth: Protonovus Assault</th>\n",
       "      <th>name_Air Conflicts: Secret Wars</th>\n",
       "      <th>name_Alan Wake</th>\n",
       "      <th>name_Alice: Madness Returns</th>\n",
       "      <th>...</th>\n",
       "      <th>publisher_Virgin Interactive</th>\n",
       "      <th>publisher_Vivendi Games</th>\n",
       "      <th>publisher_Wargaming.net</th>\n",
       "      <th>publisher_Warner Bros. Interactive Entertainment</th>\n",
       "      <th>publisher_Yacht Club Games</th>\n",
       "      <th>publisher_Zoo Digital Publishing</th>\n",
       "      <th>publisher_bitComposer Games</th>\n",
       "      <th>epoque_00s</th>\n",
       "      <th>epoque_10s</th>\n",
       "      <th>epoque_90s</th>\n",
       "    </tr>\n",
       "  </thead>\n",
       "  <tbody>\n",
       "    <tr>\n",
       "      <th>8</th>\n",
       "      <td>0</td>\n",
       "      <td>0</td>\n",
       "      <td>0</td>\n",
       "      <td>0</td>\n",
       "      <td>0</td>\n",
       "      <td>0</td>\n",
       "      <td>0</td>\n",
       "      <td>0</td>\n",
       "      <td>0</td>\n",
       "      <td>0</td>\n",
       "      <td>...</td>\n",
       "      <td>0</td>\n",
       "      <td>0</td>\n",
       "      <td>0</td>\n",
       "      <td>0</td>\n",
       "      <td>0</td>\n",
       "      <td>0</td>\n",
       "      <td>0</td>\n",
       "      <td>0</td>\n",
       "      <td>1</td>\n",
       "      <td>0</td>\n",
       "    </tr>\n",
       "    <tr>\n",
       "      <th>8</th>\n",
       "      <td>0</td>\n",
       "      <td>0</td>\n",
       "      <td>0</td>\n",
       "      <td>0</td>\n",
       "      <td>0</td>\n",
       "      <td>0</td>\n",
       "      <td>0</td>\n",
       "      <td>0</td>\n",
       "      <td>0</td>\n",
       "      <td>0</td>\n",
       "      <td>...</td>\n",
       "      <td>0</td>\n",
       "      <td>0</td>\n",
       "      <td>0</td>\n",
       "      <td>0</td>\n",
       "      <td>0</td>\n",
       "      <td>0</td>\n",
       "      <td>0</td>\n",
       "      <td>0</td>\n",
       "      <td>1</td>\n",
       "      <td>0</td>\n",
       "    </tr>\n",
       "    <tr>\n",
       "      <th>8</th>\n",
       "      <td>0</td>\n",
       "      <td>0</td>\n",
       "      <td>0</td>\n",
       "      <td>0</td>\n",
       "      <td>0</td>\n",
       "      <td>0</td>\n",
       "      <td>0</td>\n",
       "      <td>0</td>\n",
       "      <td>0</td>\n",
       "      <td>0</td>\n",
       "      <td>...</td>\n",
       "      <td>0</td>\n",
       "      <td>0</td>\n",
       "      <td>0</td>\n",
       "      <td>0</td>\n",
       "      <td>0</td>\n",
       "      <td>0</td>\n",
       "      <td>0</td>\n",
       "      <td>0</td>\n",
       "      <td>1</td>\n",
       "      <td>0</td>\n",
       "    </tr>\n",
       "    <tr>\n",
       "      <th>8</th>\n",
       "      <td>0</td>\n",
       "      <td>0</td>\n",
       "      <td>0</td>\n",
       "      <td>0</td>\n",
       "      <td>0</td>\n",
       "      <td>0</td>\n",
       "      <td>0</td>\n",
       "      <td>0</td>\n",
       "      <td>0</td>\n",
       "      <td>0</td>\n",
       "      <td>...</td>\n",
       "      <td>0</td>\n",
       "      <td>0</td>\n",
       "      <td>0</td>\n",
       "      <td>0</td>\n",
       "      <td>0</td>\n",
       "      <td>0</td>\n",
       "      <td>0</td>\n",
       "      <td>0</td>\n",
       "      <td>1</td>\n",
       "      <td>0</td>\n",
       "    </tr>\n",
       "    <tr>\n",
       "      <th>8</th>\n",
       "      <td>0</td>\n",
       "      <td>0</td>\n",
       "      <td>0</td>\n",
       "      <td>0</td>\n",
       "      <td>0</td>\n",
       "      <td>0</td>\n",
       "      <td>0</td>\n",
       "      <td>0</td>\n",
       "      <td>0</td>\n",
       "      <td>0</td>\n",
       "      <td>...</td>\n",
       "      <td>0</td>\n",
       "      <td>0</td>\n",
       "      <td>0</td>\n",
       "      <td>0</td>\n",
       "      <td>0</td>\n",
       "      <td>0</td>\n",
       "      <td>0</td>\n",
       "      <td>0</td>\n",
       "      <td>1</td>\n",
       "      <td>0</td>\n",
       "    </tr>\n",
       "    <tr>\n",
       "      <th>...</th>\n",
       "      <td>...</td>\n",
       "      <td>...</td>\n",
       "      <td>...</td>\n",
       "      <td>...</td>\n",
       "      <td>...</td>\n",
       "      <td>...</td>\n",
       "      <td>...</td>\n",
       "      <td>...</td>\n",
       "      <td>...</td>\n",
       "      <td>...</td>\n",
       "      <td>...</td>\n",
       "      <td>...</td>\n",
       "      <td>...</td>\n",
       "      <td>...</td>\n",
       "      <td>...</td>\n",
       "      <td>...</td>\n",
       "      <td>...</td>\n",
       "      <td>...</td>\n",
       "      <td>...</td>\n",
       "      <td>...</td>\n",
       "      <td>...</td>\n",
       "    </tr>\n",
       "    <tr>\n",
       "      <th>1124</th>\n",
       "      <td>0</td>\n",
       "      <td>0</td>\n",
       "      <td>0</td>\n",
       "      <td>0</td>\n",
       "      <td>0</td>\n",
       "      <td>0</td>\n",
       "      <td>0</td>\n",
       "      <td>0</td>\n",
       "      <td>0</td>\n",
       "      <td>0</td>\n",
       "      <td>...</td>\n",
       "      <td>0</td>\n",
       "      <td>0</td>\n",
       "      <td>0</td>\n",
       "      <td>0</td>\n",
       "      <td>0</td>\n",
       "      <td>0</td>\n",
       "      <td>0</td>\n",
       "      <td>0</td>\n",
       "      <td>1</td>\n",
       "      <td>0</td>\n",
       "    </tr>\n",
       "    <tr>\n",
       "      <th>1124</th>\n",
       "      <td>0</td>\n",
       "      <td>0</td>\n",
       "      <td>0</td>\n",
       "      <td>0</td>\n",
       "      <td>0</td>\n",
       "      <td>0</td>\n",
       "      <td>0</td>\n",
       "      <td>0</td>\n",
       "      <td>0</td>\n",
       "      <td>0</td>\n",
       "      <td>...</td>\n",
       "      <td>0</td>\n",
       "      <td>0</td>\n",
       "      <td>0</td>\n",
       "      <td>0</td>\n",
       "      <td>0</td>\n",
       "      <td>0</td>\n",
       "      <td>0</td>\n",
       "      <td>0</td>\n",
       "      <td>1</td>\n",
       "      <td>0</td>\n",
       "    </tr>\n",
       "    <tr>\n",
       "      <th>1124</th>\n",
       "      <td>0</td>\n",
       "      <td>0</td>\n",
       "      <td>0</td>\n",
       "      <td>0</td>\n",
       "      <td>0</td>\n",
       "      <td>0</td>\n",
       "      <td>0</td>\n",
       "      <td>0</td>\n",
       "      <td>0</td>\n",
       "      <td>0</td>\n",
       "      <td>...</td>\n",
       "      <td>0</td>\n",
       "      <td>0</td>\n",
       "      <td>0</td>\n",
       "      <td>0</td>\n",
       "      <td>0</td>\n",
       "      <td>0</td>\n",
       "      <td>0</td>\n",
       "      <td>0</td>\n",
       "      <td>1</td>\n",
       "      <td>0</td>\n",
       "    </tr>\n",
       "    <tr>\n",
       "      <th>1124</th>\n",
       "      <td>0</td>\n",
       "      <td>0</td>\n",
       "      <td>0</td>\n",
       "      <td>0</td>\n",
       "      <td>0</td>\n",
       "      <td>0</td>\n",
       "      <td>0</td>\n",
       "      <td>0</td>\n",
       "      <td>0</td>\n",
       "      <td>0</td>\n",
       "      <td>...</td>\n",
       "      <td>0</td>\n",
       "      <td>0</td>\n",
       "      <td>0</td>\n",
       "      <td>0</td>\n",
       "      <td>0</td>\n",
       "      <td>0</td>\n",
       "      <td>0</td>\n",
       "      <td>0</td>\n",
       "      <td>1</td>\n",
       "      <td>0</td>\n",
       "    </tr>\n",
       "    <tr>\n",
       "      <th>1124</th>\n",
       "      <td>0</td>\n",
       "      <td>0</td>\n",
       "      <td>0</td>\n",
       "      <td>0</td>\n",
       "      <td>0</td>\n",
       "      <td>0</td>\n",
       "      <td>0</td>\n",
       "      <td>0</td>\n",
       "      <td>0</td>\n",
       "      <td>0</td>\n",
       "      <td>...</td>\n",
       "      <td>0</td>\n",
       "      <td>0</td>\n",
       "      <td>0</td>\n",
       "      <td>0</td>\n",
       "      <td>0</td>\n",
       "      <td>0</td>\n",
       "      <td>0</td>\n",
       "      <td>0</td>\n",
       "      <td>1</td>\n",
       "      <td>0</td>\n",
       "    </tr>\n",
       "  </tbody>\n",
       "</table>\n",
       "<p>12615 rows × 803 columns</p>\n",
       "</div>"
      ],
      "text/plain": [
       "      name_15 Days  name_7 Days to Die  name_7 Wonders of the Ancient World  \\\n",
       "8                0                   0                                    0   \n",
       "8                0                   0                                    0   \n",
       "8                0                   0                                    0   \n",
       "8                0                   0                                    0   \n",
       "8                0                   0                                    0   \n",
       "...            ...                 ...                                  ...   \n",
       "1124             0                   0                                    0   \n",
       "1124             0                   0                                    0   \n",
       "1124             0                   0                                    0   \n",
       "1124             0                   0                                    0   \n",
       "1124             0                   0                                    0   \n",
       "\n",
       "      name_A Boy and His Blob  name_A Vampyre Story  name_Advent Rising  \\\n",
       "8                           0                     0                   0   \n",
       "8                           0                     0                   0   \n",
       "8                           0                     0                   0   \n",
       "8                           0                     0                   0   \n",
       "8                           0                     0                   0   \n",
       "...                       ...                   ...                 ...   \n",
       "1124                        0                     0                   0   \n",
       "1124                        0                     0                   0   \n",
       "1124                        0                     0                   0   \n",
       "1124                        0                     0                   0   \n",
       "1124                        0                     0                   0   \n",
       "\n",
       "      name_Aegis of Earth: Protonovus Assault  \\\n",
       "8                                           0   \n",
       "8                                           0   \n",
       "8                                           0   \n",
       "8                                           0   \n",
       "8                                           0   \n",
       "...                                       ...   \n",
       "1124                                        0   \n",
       "1124                                        0   \n",
       "1124                                        0   \n",
       "1124                                        0   \n",
       "1124                                        0   \n",
       "\n",
       "      name_Air Conflicts: Secret Wars  name_Alan Wake  \\\n",
       "8                                   0               0   \n",
       "8                                   0               0   \n",
       "8                                   0               0   \n",
       "8                                   0               0   \n",
       "8                                   0               0   \n",
       "...                               ...             ...   \n",
       "1124                                0               0   \n",
       "1124                                0               0   \n",
       "1124                                0               0   \n",
       "1124                                0               0   \n",
       "1124                                0               0   \n",
       "\n",
       "      name_Alice: Madness Returns  ...  publisher_Virgin Interactive  \\\n",
       "8                               0  ...                             0   \n",
       "8                               0  ...                             0   \n",
       "8                               0  ...                             0   \n",
       "8                               0  ...                             0   \n",
       "8                               0  ...                             0   \n",
       "...                           ...  ...                           ...   \n",
       "1124                            0  ...                             0   \n",
       "1124                            0  ...                             0   \n",
       "1124                            0  ...                             0   \n",
       "1124                            0  ...                             0   \n",
       "1124                            0  ...                             0   \n",
       "\n",
       "      publisher_Vivendi Games  publisher_Wargaming.net  \\\n",
       "8                           0                        0   \n",
       "8                           0                        0   \n",
       "8                           0                        0   \n",
       "8                           0                        0   \n",
       "8                           0                        0   \n",
       "...                       ...                      ...   \n",
       "1124                        0                        0   \n",
       "1124                        0                        0   \n",
       "1124                        0                        0   \n",
       "1124                        0                        0   \n",
       "1124                        0                        0   \n",
       "\n",
       "      publisher_Warner Bros. Interactive Entertainment  \\\n",
       "8                                                    0   \n",
       "8                                                    0   \n",
       "8                                                    0   \n",
       "8                                                    0   \n",
       "8                                                    0   \n",
       "...                                                ...   \n",
       "1124                                                 0   \n",
       "1124                                                 0   \n",
       "1124                                                 0   \n",
       "1124                                                 0   \n",
       "1124                                                 0   \n",
       "\n",
       "      publisher_Yacht Club Games  publisher_Zoo Digital Publishing  \\\n",
       "8                              0                                 0   \n",
       "8                              0                                 0   \n",
       "8                              0                                 0   \n",
       "8                              0                                 0   \n",
       "8                              0                                 0   \n",
       "...                          ...                               ...   \n",
       "1124                           0                                 0   \n",
       "1124                           0                                 0   \n",
       "1124                           0                                 0   \n",
       "1124                           0                                 0   \n",
       "1124                           0                                 0   \n",
       "\n",
       "      publisher_bitComposer Games  epoque_00s  epoque_10s  epoque_90s  \n",
       "8                               0           0           1           0  \n",
       "8                               0           0           1           0  \n",
       "8                               0           0           1           0  \n",
       "8                               0           0           1           0  \n",
       "8                               0           0           1           0  \n",
       "...                           ...         ...         ...         ...  \n",
       "1124                            0           0           1           0  \n",
       "1124                            0           0           1           0  \n",
       "1124                            0           0           1           0  \n",
       "1124                            0           0           1           0  \n",
       "1124                            0           0           1           0  \n",
       "\n",
       "[12615 rows x 803 columns]"
      ]
     },
     "execution_count": 25,
     "metadata": {},
     "output_type": "execute_result"
    }
   ],
   "source": [
    "cat_encoded"
   ]
  },
  {
   "cell_type": "markdown",
   "metadata": {},
   "source": [
    "# X - Y Split"
   ]
  },
  {
   "cell_type": "markdown",
   "metadata": {},
   "source": [
    "Merge the Data after encoding and scaling"
   ]
  },
  {
   "cell_type": "code",
   "execution_count": 26,
   "metadata": {},
   "outputs": [],
   "source": [
    "data = pd.concat([num, cat_encoded], axis=1)"
   ]
  },
  {
   "cell_type": "markdown",
   "metadata": {},
   "source": [
    "## Let's train and predict!"
   ]
  },
  {
   "cell_type": "code",
   "execution_count": 27,
   "metadata": {},
   "outputs": [],
   "source": [
    "X = data.drop(['user_score'], axis=1)\n",
    "y = data['user_score']"
   ]
  },
  {
   "cell_type": "code",
   "execution_count": 28,
   "metadata": {},
   "outputs": [],
   "source": [
    "X_train, X_test, y_train, y_test = train_test_split(X, y, test_size=0.3, random_state=42)"
   ]
  },
  {
   "cell_type": "code",
   "execution_count": 29,
   "metadata": {},
   "outputs": [
    {
     "name": "stdout",
     "output_type": "stream",
     "text": [
      "R2_score: 0.91\n",
      "RMSE: 0 2\n",
      "MAE: 0 2\n"
     ]
    }
   ],
   "source": [
    "#Linear model\n",
    "lm = LinearRegression() \n",
    "lm.fit(X,y)\n",
    "\n",
    "predictions = lm.predict(X) \n",
    "rmse = mean_squared_error(y, predictions, squared=False) \n",
    "mae = mean_absolute_error(y, predictions)\n",
    "\n",
    "print(\"R2_score:\", round(lm.score(X,y),2)) \n",
    "print(\"RMSE:\", round(rmse),2)\n",
    "print(\"MAE:\", round(mae),2)"
   ]
  },
  {
   "cell_type": "code",
   "execution_count": 32,
   "metadata": {},
   "outputs": [
    {
     "name": "stdout",
     "output_type": "stream",
     "text": [
      "R2_score: 0.98\n",
      "RMSE: 0 2\n",
      "MAE: 0 2\n"
     ]
    }
   ],
   "source": [
    "#Random Forest model\n",
    "\n",
    "rf_model = RandomForestRegressor(n_estimators=500, random_state=42)\n",
    "rf_model.fit(X_train, y_train)\n",
    "\n",
    "\n",
    "y_pred = rf_model.predict(X_test)\n",
    "mse = mean_squared_error(y_test, y_pred)\n",
    "mae = mean_absolute_error(y_test, y_pred)\n",
    "r2 = r2_score(y_test, y_pred)\n",
    "\n",
    "print(\"R2_score:\", round(rf_model.score(X,y),2)) \n",
    "print(\"RMSE:\", round(rmse),2)\n",
    "print(\"MAE:\", round(mae),2)"
   ]
  },
  {
   "cell_type": "markdown",
   "metadata": {},
   "source": [
    "### Conclusion:\n",
    "\n",
    "The RandomForest model is a better with a R2 score of 0.98 for predicting the user_score based on the data provided (scores from other magazines, time of completion and categories / genres games)"
   ]
  },
  {
   "cell_type": "markdown",
   "metadata": {},
   "source": [
    "## Feature importance"
   ]
  },
  {
   "cell_type": "code",
   "execution_count": 33,
   "metadata": {},
   "outputs": [],
   "source": [
    "# Get feature importances\n",
    "\n",
    "feature_importance_scores = rf_model.feature_importances_\n",
    "\n",
    "# Create a list for features and importance\n",
    "feature_importances = list(zip(data.columns, feature_importance_scores))\n",
    "\n",
    "# Order feature importances in descending order based on importance score\n",
    "sorted_feature_importances = sorted(feature_importances, key=lambda x: x[1], reverse=True)"
   ]
  },
  {
   "cell_type": "code",
   "execution_count": 36,
   "metadata": {},
   "outputs": [
    {
     "data": {
      "image/png": "[encoded data removed]",
      "text/plain": [
       "<Figure size 1000x600 with 1 Axes>"
      ]
     },
     "metadata": {},
     "output_type": "display_data"
    }
   ],
   "source": [
    "#graphing the importances\n",
    "top_features = sorted_feature_importances[:10]  # Select the top 10 features\n",
    "\n",
    "top_feature_names = [feature[0] for feature in top_features]\n",
    "top_importance_scores = [feature[1] for feature in top_features]\n",
    "\n",
    "# Create bar plot for the top 10 features\n",
    "plt.figure(figsize=(10, 6))\n",
    "plt.barh(range(len(top_feature_names)), top_importance_scores, align='center', color='skyblue')\n",
    "plt.yticks(range(len(top_feature_names)), top_feature_names)\n",
    "plt.xlabel('Feature Importance Score')\n",
    "plt.ylabel('Features')\n",
    "plt.title('Top 10 Feature Importances in RandomForest Regression')\n",
    "plt.gca().invert_yaxis()  # Invert the y-axis to show the highest importance at the top\n",
    "plt.tight_layout()\n",
    "\n",
    "plt.show()\n"
   ]
  }
 ],
 "metadata": {
  "kernelspec": {
   "display_name": "base",
   "language": "python",
   "name": "python3"
  },
  "language_info": {
   "codemirror_mode": {
    "name": "ipython",
    "version": 3
   },
   "file_extension": ".py",
   "mimetype": "text/x-python",
   "name": "python",
   "nbconvert_exporter": "python",
   "pygments_lexer": "ipython3",
   "version": "3.9.13"
  },
  "orig_nbformat": 4
 },
 "nbformat": 4,
 "nbformat_minor": 2
}
